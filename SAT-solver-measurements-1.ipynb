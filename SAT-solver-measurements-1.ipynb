{
 "cells": [
  {
   "cell_type": "markdown",
   "id": "83824ee1-9070-461f-8872-b9d52b509609",
   "metadata": {},
   "source": [
    "### Замер производительности Sat-solver \n",
    "\n",
    "[Репозиторий с реализацией алгоритма на языке C#: ](https://github.com/ploskiy-2/SAT_Solver)\n",
    "\n",
    "## Характеристики тествого стенда:\n",
    "\n",
    "- OS: Ubuntu 22.04.4 LTS\n",
    "- CPU model: 12th Gen Intel(R) Core(TM) i5-12500H\n",
    "- Architecture: x86-64\n",
    "- CPU frequency (MAX): 4.5 GHz\n",
    "- RAM (Total): 15Gi\n",
    "\n",
    "## Подготовка тестового стенда:\n",
    "\n",
    "1. Все измерения производились на одном ядре и на одном потоке\n",
    "2. Отключение swap\n",
    "3. Установка максимальной частоты процессора\n",
    "4. Сборка программы в Release режиме\n",
    "5. Запуск программы на одном ядре\n",
    "\n",
    "Были использованы следующие команды:\n",
    "```bash\n",
    "sudo swapoff -a\n",
    "```\n",
    "```bash\n",
    "sudo cpupower frequency-set -g performance\n",
    "```\n",
    "```bash\n",
    "sudo cpupower frequency-set -d 4.5GHz -u 4.5GHz\n",
    "```\n",
    "Запуск программы после предварительной сборки осуществлялся с помощью следующей команды:\n",
    "```bash\n",
    "sudo nice -n -20 taskset -c 0 ./src/bin/Release/net8.0/src\n",
    "```\n",
    "\n",
    "## Тестовые данные:\n",
    "\n",
    "Измерения были сделаны с помощью методов класса Stopwatch. Все измерения представлены в миллисекундах. \n",
    "\n",
    "Для измерений был выбран файл, состоящий из 100 переменных и 430 дизъюнктов. Время работы алгоритма на данном наборе составляет примерно 2 секунды. Для данного набора существует модель, то есть КНФ является разрешимой. \n",
    "\n",
    "## Измерения:\n",
    "\n",
    "Перед измерением времени работы алгоритма был проведен прогрев на других входных значениях. Время работы на <<разогревающем наборе>> состовляет примерно 30 секунд. Было проведено 30 итераций прогрева.\n",
    "\n",
    "После чего были выполнены основные измерения. Всего было сделано 100 замеров два раза. При первом эксперименте был одиночный выброс, который был отброшен, поэтому в файле \"measurements-1.txt\" 99 значений, а не 100."
   ]
  },
  {
   "cell_type": "code",
   "execution_count": 1,
   "id": "e85bf77d-f970-4b0c-8a00-df05dc42d65e",
   "metadata": {},
   "outputs": [
    {
     "name": "stdout",
     "output_type": "stream",
     "text": [
      "The history saving thread hit an unexpected error (OperationalError('attempt to write a readonly database')).History will not be written to the database.\n"
     ]
    }
   ],
   "source": [
    "from scipy import stats\n",
    "import numpy as np\n",
    "import matplotlib.pyplot as plt"
   ]
  },
  {
   "cell_type": "code",
   "execution_count": 2,
   "id": "30ceaef6-a0e7-4b47-b8ff-7c97d44cc97e",
   "metadata": {},
   "outputs": [
    {
     "data": {
      "text/plain": [
       "(array([ 1.,  2.,  9., 12., 12., 27., 19.,  6.,  6.,  5.]),\n",
       " array([1.9828162 , 1.98415207, 1.98548794, 1.98682381, 1.98815968,\n",
       "        1.98949555, 1.99083142, 1.99216729, 1.99350316, 1.99483903,\n",
       "        1.9961749 ]),\n",
       " <BarContainer object of 10 artists>)"
      ]
     },
     "execution_count": 2,
     "metadata": {},
     "output_type": "execute_result"
    },
    {
     "data": {
      "image/png": "[encoded data removed]",
      "text/plain": [
       "<Figure size 640x480 with 1 Axes>"
      ]
     },
     "metadata": {},
     "output_type": "display_data"
    }
   ],
   "source": [
    "f = open(\"measurements-1.txt\")\n",
    "m = []\n",
    "for l in f:\n",
    "    m.append(float(l.strip().replace(\",\",\".\"))/1000.0)\n",
    "t1 = [\n",
    "    \"1987,9401\", \"1984,2298\", \"1982,8162\", \"1990,5629\", \"1986,5376\",\n",
    "    \"1987,1333\", \"1989,2453\", \"1988,3762\", \"1985,773\", \"1990,8445\",\n",
    "    \"1989,8048\", \"1988,2797\", \"1991,4778\", \"1991,9431\", \"1987,9807\",\n",
    "    \"1989,5477\", \"1994,5895\", \"1991,9702\", \"1991,073\", \"1990,7187\",\n",
    "    \"1993,9594\", \"1985,8616\", \"1988,2954\", \"1986,3199\", \"1995,457\",\n",
    "    \"1988,8271\", \"1990,2447\", \"1991,1171\", \"1987,1199\", \"1992,9344\",\n",
    "    \"1987,7288\", \"1990,1819\", \"1994,2111\", \"1991,2987\", \"1988,3454\",\n",
    "    \"1990,8023\", \"1993,3224\", \"1986,5032\", \"1991,9122\", \"1991,9553\",\n",
    "    \"1996,1749\", \"1990,6231\", \"1994,6455\", \"1986,0316\", \"1994,9781\",\n",
    "    \"1992,0739\", \"1989,3534\", \"1991,5876\", \"1990,5588\", \"1991,0847\",\n",
    "    \"1990,3298\", \"1991,9423\", \"1987,7721\", \"1990,794\", \"1989,2131\",\n",
    "    \"1990,0479\", \"1986,5924\", \"1990,179\", \"1989,5906\", \"1984,4414\",\n",
    "    \"1987,9132\", \"1990,1294\", \"1990,5688\", \"1989,5125\", \"1987,1953\",\n",
    "    \"1987,5228\", \"1990,5591\", \"1991,5026\", \"1988,0436\", \"1990,709\",\n",
    "    \"1987,8028\", \"1990,9659\", \"1986,6998\", \"1990,3006\", \"1988,8271\",\n",
    "    \"1993,795\", \"1990,8638\", \"1992,4746\", \"1985,6434\", \"1992,6048\",\n",
    "    \"1987,4914\", \"1993,358\", \"1989,5562\", \"1990,3047\", \"1988,9195\",\n",
    "    \"1991,495\", \"1990,267\", \"1992,0988\", \"1995,9147\", \"1989,9276\",\n",
    "    \"1990,4947\", \"1995,4672\", \"1988,283\", \"1992,2587\", \"1993,569\",\n",
    "    \"1990,3986\", \"1988,7956\", \"1990,2145\", \"1991,9722\"\n",
    "]\n",
    "plt.hist(m)"
   ]
  },
  {
   "cell_type": "code",
   "execution_count": 8,
   "id": "27027681-dd5a-4699-8b2b-519686b5249e",
   "metadata": {},
   "outputs": [
    {
     "data": {
      "text/plain": [
       "NormaltestResult(statistic=0.10664733105500215, pvalue=0.9480731042357756)"
      ]
     },
     "execution_count": 8,
     "metadata": {},
     "output_type": "execute_result"
    }
   ],
   "source": [
    "stats.normaltest(m)"
   ]
  },
  {
   "cell_type": "code",
   "execution_count": 9,
   "id": "a332a789-e5be-438c-a50d-324ca3d57c41",
   "metadata": {},
   "outputs": [
    {
     "data": {
      "text/plain": [
       "ShapiroResult(statistic=0.9906149893347403, pvalue=0.7204279166284169)"
      ]
     },
     "execution_count": 9,
     "metadata": {},
     "output_type": "execute_result"
    }
   ],
   "source": [
    "stats.shapiro(m)"
   ]
  },
  {
   "cell_type": "markdown",
   "id": "8b846679-9ae6-4783-9660-d1ab53acdeba",
   "metadata": {},
   "source": [
    "## Анализ результатов:\n",
    "\n",
    "Полученная гистограмма и p-values соответствуют нормальному распределению.\n",
    "\n",
    "# Вычисление основных статистических величин:\n",
    "\n",
    "Вычисление среднего:"
   ]
  },
  {
   "cell_type": "code",
   "execution_count": 10,
   "id": "c7cf3674-bdbc-4655-9b6f-00db507219c0",
   "metadata": {},
   "outputs": [
    {
     "data": {
      "text/plain": [
       "1.9900977434343436"
      ]
     },
     "execution_count": 10,
     "metadata": {},
     "output_type": "execute_result"
    }
   ],
   "source": [
    "np.mean(m)"
   ]
  },
  {
   "cell_type": "markdown",
   "id": "52662513-a44f-4350-815d-051f19af1955",
   "metadata": {},
   "source": [
    "Вычисление стандартного отклонения:"
   ]
  },
  {
   "cell_type": "code",
   "execution_count": 12,
   "id": "a227f0e3-ac08-4843-85cb-5e010e5ccfed",
   "metadata": {},
   "outputs": [
    {
     "data": {
      "text/plain": [
       "0.00026823676642014896"
      ]
     },
     "execution_count": 12,
     "metadata": {},
     "output_type": "execute_result"
    }
   ],
   "source": [
    "np.std(m, ddof=1)/len(m)**0.5"
   ]
  },
  {
   "cell_type": "markdown",
   "id": "dd0a6176-e751-43e1-81a2-f905f01ade09",
   "metadata": {},
   "source": [
    "Доверительный интервал:"
   ]
  },
  {
   "cell_type": "code",
   "execution_count": 14,
   "id": "f5a1664d-f2a4-4e46-8d85-0d52eb1235e8",
   "metadata": {},
   "outputs": [
    {
     "data": {
      "text/plain": [
       "0.0005323071330414402"
      ]
     },
     "execution_count": 14,
     "metadata": {},
     "output_type": "execute_result"
    }
   ],
   "source": [
    "stats.t.ppf(0.975, df=len(m)-1)*stats.sem(m)"
   ]
  },
  {
   "cell_type": "markdown",
   "id": "fbb5032e-afa3-4a63-a90a-efa7b75a66d3",
   "metadata": {},
   "source": [
    "Итоговый интервал:\n",
    "\n",
    "1.9901 &plusmn; 0.0005"
   ]
  }
 ],
 "metadata": {
  "kernelspec": {
   "display_name": "Python 3 (ipykernel)",
   "language": "python",
   "name": "python3"
  },
  "language_info": {
   "codemirror_mode": {
    "name": "ipython",
    "version": 3
   },
   "file_extension": ".py",
   "mimetype": "text/x-python",
   "name": "python",
   "nbconvert_exporter": "python",
   "pygments_lexer": "ipython3",
   "version": "3.10.12"
  }
 },
 "nbformat": 4,
 "nbformat_minor": 5
}
