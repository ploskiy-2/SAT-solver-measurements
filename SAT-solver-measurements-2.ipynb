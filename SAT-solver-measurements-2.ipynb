{
 "cells": [
  {
   "cell_type": "markdown",
   "id": "83824ee1-9070-461f-8872-b9d52b509609",
   "metadata": {},
   "source": [
    "### Замер производительности Sat-solver \n",
    "\n",
    "[Репозиторий с реализацией алгоритма на языке C#: ](https://github.com/ploskiy-2/SAT_Solver)\n",
    "\n",
    "## Характеристики тествого стенда:\n",
    "\n",
    "- OS: Ubuntu 22.04.4 LTS\n",
    "- CPU model: 12th Gen Intel(R) Core(TM) i5-12500H\n",
    "- Architecture: x86-64\n",
    "- CPU frequency (MAX): 4.5 GHz\n",
    "- RAM (Total): 15Gi\n",
    "\n",
    "## Подготовка тестового стенда:\n",
    "\n",
    "1. Все измерения производились на одном ядре\n",
    "2. Отключение swap\n",
    "3. Установка максимальной частоты процессора\n",
    "4. Сборка программы в Release режиме\n",
    "5. Запуск программы на одном ядре\n",
    "\n",
    "Были использованы следующие команды:\n",
    "```bash\n",
    "sudo swapoff -a\n",
    "```\n",
    "```bash\n",
    "sudo cpupower frequency-set -g performance\n",
    "```\n",
    "```bash\n",
    "sudo cpupower frequency-set -d 4.5GHz -u 4.5GHz\n",
    "```\n",
    "Запуск программы после предварительной сборки осуществлялся с помощью следующей команды:\n",
    "```bash\n",
    "sudo nice -n -20 taskset -c 0 ./src/bin/Release/net8.0/src\n",
    "```\n",
    "\n",
    "## Тестовые данные:\n",
    "\n",
    "Измерения были сделаны с помощью методов класса Stopwatch. Все измерения представлены в миллисекундах (затем для анализа были переведены в секунды).\n",
    "\n",
    "Для измерений был выбран файл, состоящий из 100 переменных и 430 дизъюнктов. Время работы алгоритма на данном наборе составляет примерно 2 секунды. Для данного набора существует модель, то есть КНФ является разрешимой. \n",
    "\n",
    "## Измерения:\n",
    "\n",
    "Перед измерением времени работы алгоритма был проведен прогрев на других входных значениях. Время работы на <<разогревающем наборе>> состовляет примерно 30 секунд. Было проведено 30 итераций прогрева.\n",
    "\n",
    "После чего были выполнены основные измерения. Всего было сделано 100 замеров два раза. При первом эксперименте был одиночный выброс, который был отброшен, поэтому в файле \"measurements-1.txt\" 99 значений, а не 100."
   ]
  },
  {
   "cell_type": "code",
   "execution_count": 2,
   "id": "e85bf77d-f970-4b0c-8a00-df05dc42d65e",
   "metadata": {},
   "outputs": [],
   "source": [
    "from scipy import stats\n",
    "import numpy as np\n",
    "import matplotlib.pyplot as plt"
   ]
  },
  {
   "cell_type": "code",
   "execution_count": 3,
   "id": "30ceaef6-a0e7-4b47-b8ff-7c97d44cc97e",
   "metadata": {},
   "outputs": [
    {
     "data": {
      "text/plain": [
       "(array([ 1.,  3.,  7., 16., 15., 20., 17., 14.,  2.,  5.]),\n",
       " array([1.9833531 , 1.98460268, 1.98585226, 1.98710184, 1.98835142,\n",
       "        1.989601  , 1.99085058, 1.99210016, 1.99334974, 1.99459932,\n",
       "        1.9958489 ]),\n",
       " <BarContainer object of 10 artists>)"
      ]
     },
     "execution_count": 3,
     "metadata": {},
     "output_type": "execute_result"
    },
    {
     "data": {
      "image/png": "[encoded data removed]",
      "text/plain": [
       "<Figure size 640x480 with 1 Axes>"
      ]
     },
     "metadata": {},
     "output_type": "display_data"
    }
   ],
   "source": [
    "f = open(\"measurements-2.txt\")\n",
    "m = []\n",
    "for l in f:\n",
    "    m.append(float(l.strip().replace(\",\",\".\"))/1000.0)\n",
    "t2 = [\n",
    "    \"1983,3531\", \"1992,7897\", \"1990,7218\", \"1988,8887\", \"1989,9196\",\n",
    "    \"1988,9192\", \"1992,2024\", \"1990,2633\", \"1992,1697\", \"1986,8122\",\n",
    "    \"1987,5765\", \"1989,7288\", \"1995,4642\", \"1986,4815\", \"1989,3289\",\n",
    "    \"1987,6725\", \"1991,0966\", \"1986,2383\", \"1995,8489\", \"1985,6987\",\n",
    "    \"1988,4006\", \"1989,8544\", \"1989,6992\", \"1987,0998\", \"1993,2061\",\n",
    "    \"1987,7116\", \"1990,2141\", \"1992,1865\", \"1988,8526\", \"1986,0772\",\n",
    "    \"1990,9699\", \"1988,335\", \"1988,5635\", \"1990,4904\", \"1989,7238\",\n",
    "    \"1989,4128\", \"1990,5345\", \"1994,5534\", \"1991,2595\", \"1988,1352\",\n",
    "    \"1989,0077\", \"1991,1676\", \"1991,1334\", \"1987,9681\", \"1991,6769\",\n",
    "    \"1987,9823\", \"1987,8968\", \"1990,816\", \"1988,4476\", \"1988,1754\",\n",
    "    \"1992,2884\", \"1987,0836\", \"1988,1001\", \"1989,0599\", \"1990,3259\",\n",
    "    \"1988,3428\", \"1991,4024\", \"1992,9008\", \"1991,6273\", \"1992,581\",\n",
    "    \"1989,3805\", \"1995,7864\", \"1990,1543\", \"1992,4731\", \"1991,2679\",\n",
    "    \"1988,8421\", \"1990,2478\", \"1987,5657\", \"1989,8051\", \"1989,459\",\n",
    "    \"1992,1599\", \"1991,4288\", \"1991,0845\", \"1988,8044\", \"1992,6393\",\n",
    "    \"1994,3188\", \"1990,5531\", \"1989,894\", \"1991,035\", \"1991,746\",\n",
    "    \"1987,8134\", \"1995,8151\", \"1989,7041\", \"1985,2504\", \"1991,007\",\n",
    "    \"1991,3838\", \"1992,823\", \"1995,5946\", \"1988,187\", \"1992,224\",\n",
    "    \"1992,1466\", \"1989,6871\", \"1985,165\", \"1989,9251\", \"1986,9029\",\n",
    "    \"1991,7029\", \"1990,8593\", \"1988,4316\", \"1987,5327\", \"1988,1582\"\n",
    "]\n",
    "plt.hist(m)"
   ]
  },
  {
   "cell_type": "code",
   "execution_count": 4,
   "id": "27027681-dd5a-4699-8b2b-519686b5249e",
   "metadata": {},
   "outputs": [
    {
     "data": {
      "text/plain": [
       "NormaltestResult(statistic=1.1472874266779225, pvalue=0.5634685757002854)"
      ]
     },
     "execution_count": 4,
     "metadata": {},
     "output_type": "execute_result"
    }
   ],
   "source": [
    "stats.normaltest(m)"
   ]
  },
  {
   "cell_type": "code",
   "execution_count": 5,
   "id": "a332a789-e5be-438c-a50d-324ca3d57c41",
   "metadata": {},
   "outputs": [
    {
     "data": {
      "text/plain": [
       "ShapiroResult(statistic=0.9855625323397981, pvalue=0.34839845090885446)"
      ]
     },
     "execution_count": 5,
     "metadata": {},
     "output_type": "execute_result"
    }
   ],
   "source": [
    "stats.shapiro(m)"
   ]
  },
  {
   "cell_type": "markdown",
   "id": "8b846679-9ae6-4783-9660-d1ab53acdeba",
   "metadata": {},
   "source": [
    "## Анализ результатов:\n",
    "\n",
    "Полученная гистограмма и p-values соответствуют нормальному распределению.\n",
    "\n",
    "# Вычисление основных статистических величин:\n",
    "\n",
    "Вычисление среднего:"
   ]
  },
  {
   "cell_type": "code",
   "execution_count": 5,
   "id": "c7cf3674-bdbc-4655-9b6f-00db507219c0",
   "metadata": {},
   "outputs": [
    {
     "data": {
      "text/plain": [
       "1.9900339820000001"
      ]
     },
     "execution_count": 5,
     "metadata": {},
     "output_type": "execute_result"
    }
   ],
   "source": [
    "np.mean(m)"
   ]
  },
  {
   "cell_type": "markdown",
   "id": "52662513-a44f-4350-815d-051f19af1955",
   "metadata": {},
   "source": [
    "Вычисление стандартного отклонения:"
   ]
  },
  {
   "cell_type": "code",
   "execution_count": 6,
   "id": "a227f0e3-ac08-4843-85cb-5e010e5ccfed",
   "metadata": {},
   "outputs": [
    {
     "data": {
      "text/plain": [
       "0.0002455990392809323"
      ]
     },
     "execution_count": 6,
     "metadata": {},
     "output_type": "execute_result"
    }
   ],
   "source": [
    "np.std(m, ddof=1)/len(m)**0.5"
   ]
  },
  {
   "cell_type": "markdown",
   "id": "dd0a6176-e751-43e1-81a2-f905f01ade09",
   "metadata": {},
   "source": [
    "Доверительный интервал:"
   ]
  },
  {
   "cell_type": "code",
   "execution_count": 7,
   "id": "f5a1664d-f2a4-4e46-8d85-0d52eb1235e8",
   "metadata": {},
   "outputs": [
    {
     "data": {
      "text/plain": [
       "0.00048732177701547267"
      ]
     },
     "execution_count": 7,
     "metadata": {},
     "output_type": "execute_result"
    }
   ],
   "source": [
    "stats.t.ppf(0.975, df=len(m)-1)*stats.sem(m)"
   ]
  },
  {
   "cell_type": "markdown",
   "id": "fbb5032e-afa3-4a63-a90a-efa7b75a66d3",
   "metadata": {},
   "source": [
    "Итоговый интервал:\n",
    "\n",
    "1.9900 &plusmn; 0.0005"
   ]
  }
 ],
 "metadata": {
  "kernelspec": {
   "display_name": "Python 3 (ipykernel)",
   "language": "python",
   "name": "python3"
  },
  "language_info": {
   "codemirror_mode": {
    "name": "ipython",
    "version": 3
   },
   "file_extension": ".py",
   "mimetype": "text/x-python",
   "name": "python",
   "nbconvert_exporter": "python",
   "pygments_lexer": "ipython3",
   "version": "3.10.12"
  }
 },
 "nbformat": 4,
 "nbformat_minor": 5
}
